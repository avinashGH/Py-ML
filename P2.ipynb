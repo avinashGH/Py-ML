{
 "cells": [
  {
   "cell_type": "markdown",
   "id": "ad87b718",
   "metadata": {},
   "source": [
    "## Python Data Structures and Boolean"
   ]
  },
  {
   "cell_type": "code",
   "execution_count": 1,
   "id": "9e38743a",
   "metadata": {},
   "outputs": [],
   "source": [
    "# Boolian function\n",
    "# True & False"
   ]
  },
  {
   "cell_type": "code",
   "execution_count": 2,
   "id": "491bfe16",
   "metadata": {},
   "outputs": [
    {
     "name": "stdout",
     "output_type": "stream",
     "text": [
      "True False\n"
     ]
    }
   ],
   "source": [
    "print(True,False)"
   ]
  },
  {
   "cell_type": "code",
   "execution_count": 3,
   "id": "c4e467e6",
   "metadata": {},
   "outputs": [
    {
     "data": {
      "text/plain": [
       "bool"
      ]
     },
     "execution_count": 3,
     "metadata": {},
     "output_type": "execute_result"
    }
   ],
   "source": [
    "type(True)"
   ]
  },
  {
   "cell_type": "code",
   "execution_count": 4,
   "id": "489bbe86",
   "metadata": {},
   "outputs": [
    {
     "data": {
      "text/plain": [
       "bool"
      ]
     },
     "execution_count": 4,
     "metadata": {},
     "output_type": "execute_result"
    }
   ],
   "source": [
    "type(False)"
   ]
  },
  {
   "cell_type": "code",
   "execution_count": 17,
   "id": "839f38b5",
   "metadata": {},
   "outputs": [],
   "source": [
    "my_string = \"Avinash\""
   ]
  },
  {
   "cell_type": "code",
   "execution_count": 18,
   "id": "51cd8fc1",
   "metadata": {},
   "outputs": [
    {
     "data": {
      "text/plain": [
       "True"
      ]
     },
     "execution_count": 18,
     "metadata": {},
     "output_type": "execute_result"
    }
   ],
   "source": [
    "my_string.isalnum() #Is all are alphabate and numeric?"
   ]
  },
  {
   "cell_type": "code",
   "execution_count": 14,
   "id": "330ab8fd",
   "metadata": {},
   "outputs": [],
   "source": [
    "my_string = \"Avi nash\""
   ]
  },
  {
   "cell_type": "code",
   "execution_count": 15,
   "id": "72015976",
   "metadata": {},
   "outputs": [
    {
     "data": {
      "text/plain": [
       "False"
      ]
     },
     "execution_count": 15,
     "metadata": {},
     "output_type": "execute_result"
    }
   ],
   "source": [
    "my_string.isalnum()"
   ]
  },
  {
   "cell_type": "code",
   "execution_count": 19,
   "id": "c6629d4c",
   "metadata": {},
   "outputs": [],
   "source": [
    "my_string = \"12 Avi\""
   ]
  },
  {
   "cell_type": "code",
   "execution_count": 21,
   "id": "ca8a99a1",
   "metadata": {},
   "outputs": [
    {
     "data": {
      "text/plain": [
       "False"
      ]
     },
     "execution_count": 21,
     "metadata": {},
     "output_type": "execute_result"
    }
   ],
   "source": [
    "my_string.isalpha()"
   ]
  },
  {
   "cell_type": "code",
   "execution_count": 22,
   "id": "d5611767",
   "metadata": {},
   "outputs": [],
   "source": [
    "my_string = \"Mlrock\""
   ]
  },
  {
   "cell_type": "code",
   "execution_count": 25,
   "id": "d6ed95bd",
   "metadata": {},
   "outputs": [
    {
     "data": {
      "text/plain": [
       "True"
      ]
     },
     "execution_count": 25,
     "metadata": {},
     "output_type": "execute_result"
    }
   ],
   "source": [
    "my_string.istitle() #The istitle() method returns True if all words in a text start with a upper case letter, AND the rest of the word are lower case letters, otherwise False."
   ]
  },
  {
   "cell_type": "code",
   "execution_count": 26,
   "id": "e8f69dbd",
   "metadata": {},
   "outputs": [],
   "source": [
    "my_str = \"Ml Rock One Day\""
   ]
  },
  {
   "cell_type": "code",
   "execution_count": 27,
   "id": "b8c8ac55",
   "metadata": {},
   "outputs": [
    {
     "data": {
      "text/plain": [
       "True"
      ]
     },
     "execution_count": 27,
     "metadata": {},
     "output_type": "execute_result"
    }
   ],
   "source": [
    "my_str.istitle()"
   ]
  },
  {
   "cell_type": "code",
   "execution_count": 28,
   "id": "2f080236",
   "metadata": {},
   "outputs": [
    {
     "data": {
      "text/plain": [
       "False"
      ]
     },
     "execution_count": 28,
     "metadata": {},
     "output_type": "execute_result"
    }
   ],
   "source": [
    "my_str = \"Ml Rock One day\"\n",
    "my_str.istitle()"
   ]
  },
  {
   "cell_type": "code",
   "execution_count": 37,
   "id": "79b5b0f2",
   "metadata": {},
   "outputs": [
    {
     "name": "stdout",
     "output_type": "stream",
     "text": [
      "True\n",
      "True\n"
     ]
    }
   ],
   "source": [
    "my_string = \"We will make it\" #Check if string if start with W or end with t\n",
    "print(my_string.startswith('W'))\n",
    "print(my_string.endswith('t'))"
   ]
  },
  {
   "cell_type": "markdown",
   "id": "373a29dd",
   "metadata": {},
   "source": [
    "## Boolian and Logical operators"
   ]
  },
  {
   "cell_type": "code",
   "execution_count": 46,
   "id": "906733d7",
   "metadata": {},
   "outputs": [
    {
     "data": {
      "text/plain": [
       "False"
      ]
     },
     "execution_count": 46,
     "metadata": {},
     "output_type": "execute_result"
    }
   ],
   "source": [
    "True and False   # And - both should be same and in or- at least one"
   ]
  },
  {
   "cell_type": "code",
   "execution_count": 39,
   "id": "38b2f9ac",
   "metadata": {},
   "outputs": [
    {
     "data": {
      "text/plain": [
       "False"
      ]
     },
     "execution_count": 39,
     "metadata": {},
     "output_type": "execute_result"
    }
   ],
   "source": [
    "False and False"
   ]
  },
  {
   "cell_type": "code",
   "execution_count": 40,
   "id": "40ae6059",
   "metadata": {},
   "outputs": [
    {
     "data": {
      "text/plain": [
       "True"
      ]
     },
     "execution_count": 40,
     "metadata": {},
     "output_type": "execute_result"
    }
   ],
   "source": [
    "True and True"
   ]
  },
  {
   "cell_type": "code",
   "execution_count": 41,
   "id": "c84d3c4d",
   "metadata": {},
   "outputs": [
    {
     "data": {
      "text/plain": [
       "True"
      ]
     },
     "execution_count": 41,
     "metadata": {},
     "output_type": "execute_result"
    }
   ],
   "source": [
    "True or False"
   ]
  },
  {
   "cell_type": "code",
   "execution_count": 42,
   "id": "4f9f8e09",
   "metadata": {},
   "outputs": [],
   "source": [
    "example = \"Let rock\"\n",
    "string = \"Will learn it\""
   ]
  },
  {
   "cell_type": "code",
   "execution_count": 44,
   "id": "60a109c2",
   "metadata": {},
   "outputs": [
    {
     "data": {
      "text/plain": [
       "False"
      ]
     },
     "execution_count": 44,
     "metadata": {},
     "output_type": "execute_result"
    }
   ],
   "source": [
    "example.isalnum() or string.isnumeric()"
   ]
  },
  {
   "cell_type": "code",
   "execution_count": 48,
   "id": "74464070",
   "metadata": {},
   "outputs": [
    {
     "name": "stdout",
     "output_type": "stream",
     "text": [
      "True\n",
      "False\n"
     ]
    }
   ],
   "source": [
    "example = \"Letrock\"\n",
    "string = \"Will learn it\"\n",
    "print(example.isalnum() or string.isnumeric())\n",
    "print(example.isalnum() and string.isnumeric())"
   ]
  },
  {
   "cell_type": "markdown",
   "id": "a1a9f00d",
   "metadata": {},
   "source": [
    "## List\n",
    "List items are ordered, changeable, and allow duplicate values.\n",
    "List items are indexed, the first item has index [0], the second item has index [1] etc."
   ]
  },
  {
   "cell_type": "code",
   "execution_count": 75,
   "id": "1482a435",
   "metadata": {},
   "outputs": [],
   "source": [
    "lst_example = []"
   ]
  },
  {
   "cell_type": "code",
   "execution_count": 76,
   "id": "45393374",
   "metadata": {},
   "outputs": [
    {
     "data": {
      "text/plain": [
       "list"
      ]
     },
     "execution_count": 76,
     "metadata": {},
     "output_type": "execute_result"
    }
   ],
   "source": [
    "type(lst_example)"
   ]
  },
  {
   "cell_type": "code",
   "execution_count": 77,
   "id": "aeb6b8b5",
   "metadata": {},
   "outputs": [],
   "source": [
    "lst = list()"
   ]
  },
  {
   "cell_type": "code",
   "execution_count": 78,
   "id": "0ad9459a",
   "metadata": {},
   "outputs": [
    {
     "data": {
      "text/plain": [
       "list"
      ]
     },
     "execution_count": 78,
     "metadata": {},
     "output_type": "execute_result"
    }
   ],
   "source": [
    "type(lst)"
   ]
  },
  {
   "cell_type": "code",
   "execution_count": 79,
   "id": "bf697865",
   "metadata": {},
   "outputs": [],
   "source": [
    "lst = list((\"We\",\"will\",23,45,0,3))"
   ]
  },
  {
   "cell_type": "markdown",
   "id": "a02f0c93",
   "metadata": {},
   "source": [
    "## Indexing"
   ]
  },
  {
   "cell_type": "code",
   "execution_count": 80,
   "id": "c8b5018f",
   "metadata": {},
   "outputs": [
    {
     "data": {
      "text/plain": [
       "23"
      ]
     },
     "execution_count": 80,
     "metadata": {},
     "output_type": "execute_result"
    }
   ],
   "source": [
    "lst[2]"
   ]
  },
  {
   "cell_type": "code",
   "execution_count": 81,
   "id": "85a371dd",
   "metadata": {},
   "outputs": [
    {
     "data": {
      "text/plain": [
       "['We', 'will', 23, 45, 0, 3]"
      ]
     },
     "execution_count": 81,
     "metadata": {},
     "output_type": "execute_result"
    }
   ],
   "source": [
    "lst[:]"
   ]
  },
  {
   "cell_type": "code",
   "execution_count": 82,
   "id": "0311cb62",
   "metadata": {},
   "outputs": [
    {
     "data": {
      "text/plain": [
       "['will', 23, 45, 0, 3]"
      ]
     },
     "execution_count": 82,
     "metadata": {},
     "output_type": "execute_result"
    }
   ],
   "source": [
    "lst[1:]"
   ]
  },
  {
   "cell_type": "markdown",
   "id": "7a205b8f",
   "metadata": {},
   "source": [
    "## Append"
   ]
  },
  {
   "cell_type": "code",
   "execution_count": 83,
   "id": "e44036d9",
   "metadata": {},
   "outputs": [],
   "source": [
    "lst.append('learn') # .append add at last place"
   ]
  },
  {
   "cell_type": "code",
   "execution_count": 84,
   "id": "4364ae90",
   "metadata": {},
   "outputs": [
    {
     "data": {
      "text/plain": [
       "['We', 'will', 23, 45, 0, 3, 'learn']"
      ]
     },
     "execution_count": 84,
     "metadata": {},
     "output_type": "execute_result"
    }
   ],
   "source": [
    "lst"
   ]
  },
  {
   "cell_type": "markdown",
   "id": "ac7d27ad",
   "metadata": {},
   "source": [
    "## Insert"
   ]
  },
  {
   "cell_type": "code",
   "execution_count": 85,
   "id": "c8ee292e",
   "metadata": {},
   "outputs": [],
   "source": [
    "lst.insert(2,'learn it')"
   ]
  },
  {
   "cell_type": "code",
   "execution_count": 86,
   "id": "3783a0e5",
   "metadata": {},
   "outputs": [
    {
     "data": {
      "text/plain": [
       "['We', 'will', 'learn it', 23, 45, 0, 3, 'learn']"
      ]
     },
     "execution_count": 86,
     "metadata": {},
     "output_type": "execute_result"
    }
   ],
   "source": [
    "lst"
   ]
  },
  {
   "cell_type": "code",
   "execution_count": 87,
   "id": "667190d3",
   "metadata": {},
   "outputs": [
    {
     "data": {
      "text/plain": [
       "8"
      ]
     },
     "execution_count": 87,
     "metadata": {},
     "output_type": "execute_result"
    }
   ],
   "source": [
    "len(lst)"
   ]
  },
  {
   "cell_type": "code",
   "execution_count": 88,
   "id": "2cc099b0",
   "metadata": {},
   "outputs": [],
   "source": [
    "lst.append([\"Hello World\"])  #Make a nested list"
   ]
  },
  {
   "cell_type": "code",
   "execution_count": 89,
   "id": "86d3e1c0",
   "metadata": {},
   "outputs": [
    {
     "data": {
      "text/plain": [
       "['We', 'will', 'learn it', 23, 45, 0, 3, 'learn', ['Hello World']]"
      ]
     },
     "execution_count": 89,
     "metadata": {},
     "output_type": "execute_result"
    }
   ],
   "source": [
    "lst"
   ]
  },
  {
   "cell_type": "markdown",
   "id": "c79d5c26",
   "metadata": {},
   "source": [
    "## Extend Method"
   ]
  },
  {
   "cell_type": "code",
   "execution_count": 94,
   "id": "0d253fa7",
   "metadata": {},
   "outputs": [],
   "source": [
    "lst = [20,22,\"see\"]\n",
    "lst.extend([\"We\", \"Will\"]) # add multiple elements without nested"
   ]
  },
  {
   "cell_type": "code",
   "execution_count": 95,
   "id": "1142b603",
   "metadata": {},
   "outputs": [
    {
     "data": {
      "text/plain": [
       "[20, 22, 'see', 'We', 'Will']"
      ]
     },
     "execution_count": 95,
     "metadata": {},
     "output_type": "execute_result"
    }
   ],
   "source": [
    "lst"
   ]
  },
  {
   "cell_type": "markdown",
   "id": "0dca024a",
   "metadata": {},
   "source": [
    "## Various operator we can perform in list"
   ]
  },
  {
   "cell_type": "code",
   "execution_count": 112,
   "id": "f2a78208",
   "metadata": {},
   "outputs": [],
   "source": [
    "lst = [2,5,3,5]"
   ]
  },
  {
   "cell_type": "code",
   "execution_count": 113,
   "id": "71d72867",
   "metadata": {},
   "outputs": [
    {
     "data": {
      "text/plain": [
       "15"
      ]
     },
     "execution_count": 113,
     "metadata": {},
     "output_type": "execute_result"
    }
   ],
   "source": [
    "sum(lst)"
   ]
  },
  {
   "cell_type": "code",
   "execution_count": 114,
   "id": "1cd6c17e",
   "metadata": {},
   "outputs": [
    {
     "data": {
      "text/plain": [
       "[2, 5, 3, 5, 2, 5, 3, 5]"
      ]
     },
     "execution_count": 114,
     "metadata": {},
     "output_type": "execute_result"
    }
   ],
   "source": [
    "lst*2"
   ]
  },
  {
   "cell_type": "markdown",
   "id": "06f47d1c",
   "metadata": {},
   "source": [
    "## pop() method"
   ]
  },
  {
   "cell_type": "code",
   "execution_count": 98,
   "id": "f79d516c",
   "metadata": {},
   "outputs": [
    {
     "data": {
      "text/plain": [
       "5"
      ]
     },
     "execution_count": 98,
     "metadata": {},
     "output_type": "execute_result"
    }
   ],
   "source": [
    "# The pop() method returns removed value. default is -1 \n",
    "lst.pop()"
   ]
  },
  {
   "cell_type": "code",
   "execution_count": 99,
   "id": "6df55977",
   "metadata": {},
   "outputs": [
    {
     "data": {
      "text/plain": [
       "5"
      ]
     },
     "execution_count": 99,
     "metadata": {},
     "output_type": "execute_result"
    }
   ],
   "source": [
    "lst.pop(1)"
   ]
  },
  {
   "cell_type": "code",
   "execution_count": 100,
   "id": "3123cfcf",
   "metadata": {},
   "outputs": [
    {
     "data": {
      "text/plain": [
       "[2, 3]"
      ]
     },
     "execution_count": 100,
     "metadata": {},
     "output_type": "execute_result"
    }
   ],
   "source": [
    "lst"
   ]
  },
  {
   "cell_type": "code",
   "execution_count": 101,
   "id": "e69c7acf",
   "metadata": {},
   "outputs": [],
   "source": [
    "lst.extend([5,4])"
   ]
  },
  {
   "cell_type": "code",
   "execution_count": 102,
   "id": "99c38dcc",
   "metadata": {},
   "outputs": [
    {
     "data": {
      "text/plain": [
       "[2, 3, 5, 4]"
      ]
     },
     "execution_count": 102,
     "metadata": {},
     "output_type": "execute_result"
    }
   ],
   "source": [
    "lst"
   ]
  },
  {
   "cell_type": "markdown",
   "id": "7d32a4fe",
   "metadata": {},
   "source": [
    "## Count(): Calculates total occurence of given element of List"
   ]
  },
  {
   "cell_type": "code",
   "execution_count": 103,
   "id": "a64a87a3",
   "metadata": {},
   "outputs": [],
   "source": [
    "lst = [2,4,6,7,2,5,2,5,2]"
   ]
  },
  {
   "cell_type": "code",
   "execution_count": 104,
   "id": "c5efd344",
   "metadata": {},
   "outputs": [
    {
     "data": {
      "text/plain": [
       "4"
      ]
     },
     "execution_count": 104,
     "metadata": {},
     "output_type": "execute_result"
    }
   ],
   "source": [
    "lst.count(2)"
   ]
  },
  {
   "cell_type": "code",
   "execution_count": 105,
   "id": "41d92a6e",
   "metadata": {},
   "outputs": [
    {
     "data": {
      "text/plain": [
       "9"
      ]
     },
     "execution_count": 105,
     "metadata": {},
     "output_type": "execute_result"
    }
   ],
   "source": [
    "# len() calculates total length of list\n",
    "len(lst)"
   ]
  },
  {
   "cell_type": "code",
   "execution_count": 106,
   "id": "c6dd0e99",
   "metadata": {},
   "outputs": [
    {
     "data": {
      "text/plain": [
       "0"
      ]
     },
     "execution_count": 106,
     "metadata": {},
     "output_type": "execute_result"
    }
   ],
   "source": [
    "# index(): Return the index of first occurence.Start and end index are not necessary parameters \n",
    "lst.index(2)"
   ]
  },
  {
   "cell_type": "code",
   "execution_count": 107,
   "id": "2933563e",
   "metadata": {},
   "outputs": [
    {
     "data": {
      "text/plain": [
       "4"
      ]
     },
     "execution_count": 107,
     "metadata": {},
     "output_type": "execute_result"
    }
   ],
   "source": [
    "lst.index(2,1,6)"
   ]
  },
  {
   "cell_type": "code",
   "execution_count": 108,
   "id": "6848ee92",
   "metadata": {},
   "outputs": [
    {
     "data": {
      "text/plain": [
       "0"
      ]
     },
     "execution_count": 108,
     "metadata": {},
     "output_type": "execute_result"
    }
   ],
   "source": [
    "lst.index(2,0,6)"
   ]
  },
  {
   "cell_type": "code",
   "execution_count": 109,
   "id": "3d739fce",
   "metadata": {},
   "outputs": [
    {
     "data": {
      "text/plain": [
       "7"
      ]
     },
     "execution_count": 109,
     "metadata": {},
     "output_type": "execute_result"
    }
   ],
   "source": [
    "max(lst)"
   ]
  },
  {
   "cell_type": "markdown",
   "id": "6eed2fe3",
   "metadata": {},
   "source": [
    "## Sets\n"
   ]
  },
  {
   "cell_type": "code",
   "execution_count": 2,
   "id": "1454a6c3",
   "metadata": {},
   "outputs": [],
   "source": [
    "# A set is a collection which is unordered, unchangeable*, and unindexed.\n",
    "# * Set items are unchangeable, but we can remove items and add new items.Sets are written with curly brackets.\n",
    "# Set items are unordered, unchangeable, and do not allow duplicate values means unique elements."
   ]
  },
  {
   "cell_type": "code",
   "execution_count": 3,
   "id": "98411f3d",
   "metadata": {},
   "outputs": [],
   "source": [
    "Set = set((1,2,3))"
   ]
  },
  {
   "cell_type": "code",
   "execution_count": 4,
   "id": "22d581da",
   "metadata": {},
   "outputs": [
    {
     "data": {
      "text/plain": [
       "{1, 2, 3}"
      ]
     },
     "execution_count": 4,
     "metadata": {},
     "output_type": "execute_result"
    }
   ],
   "source": [
    "Set"
   ]
  },
  {
   "cell_type": "code",
   "execution_count": 21,
   "id": "0c6e5da6",
   "metadata": {},
   "outputs": [],
   "source": [
    "Set1 = {\"Saturn\",\"Earth\",\"Marsh\"}"
   ]
  },
  {
   "cell_type": "code",
   "execution_count": 22,
   "id": "95341f91",
   "metadata": {},
   "outputs": [
    {
     "name": "stdout",
     "output_type": "stream",
     "text": [
      "{'Marsh', 'Saturn'}\n"
     ]
    }
   ],
   "source": [
    "Set1.remove(\"Earth\")\n",
    "print(Set1)"
   ]
  },
  {
   "cell_type": "code",
   "execution_count": 23,
   "id": "a62577be",
   "metadata": {},
   "outputs": [],
   "source": [
    "Set1.add(\"Earth\")"
   ]
  },
  {
   "cell_type": "code",
   "execution_count": 24,
   "id": "76602eed",
   "metadata": {},
   "outputs": [
    {
     "name": "stdout",
     "output_type": "stream",
     "text": [
      "{'Marsh', 'Earth', 'Saturn'}\n"
     ]
    }
   ],
   "source": [
    "print(Set1)"
   ]
  },
  {
   "cell_type": "code",
   "execution_count": 25,
   "id": "7d2171ce",
   "metadata": {},
   "outputs": [],
   "source": [
    "Set2 = {\"Jupyter\",\"Mercury\",\"Venus\",\"Earth\",\"Marsh\"}"
   ]
  },
  {
   "cell_type": "code",
   "execution_count": 27,
   "id": "c8568323",
   "metadata": {},
   "outputs": [
    {
     "data": {
      "text/plain": [
       "{'Jupyter', 'Mercury', 'Venus'}"
      ]
     },
     "execution_count": 27,
     "metadata": {},
     "output_type": "execute_result"
    }
   ],
   "source": [
    "Set2.difference(Set1)\n"
   ]
  },
  {
   "cell_type": "code",
   "execution_count": 28,
   "id": "77be512c",
   "metadata": {},
   "outputs": [
    {
     "data": {
      "text/plain": [
       "{'Earth', 'Jupyter', 'Marsh', 'Mercury', 'Venus'}"
      ]
     },
     "execution_count": 28,
     "metadata": {},
     "output_type": "execute_result"
    }
   ],
   "source": [
    "Set2"
   ]
  },
  {
   "cell_type": "code",
   "execution_count": 29,
   "id": "1e53a280",
   "metadata": {},
   "outputs": [],
   "source": [
    "Set2.difference_update(Set1)"
   ]
  },
  {
   "cell_type": "code",
   "execution_count": 30,
   "id": "5cef65a7",
   "metadata": {},
   "outputs": [
    {
     "data": {
      "text/plain": [
       "{'Jupyter', 'Mercury', 'Venus'}"
      ]
     },
     "execution_count": 30,
     "metadata": {},
     "output_type": "execute_result"
    }
   ],
   "source": [
    "Set2"
   ]
  },
  {
   "cell_type": "markdown",
   "id": "b841a0d7",
   "metadata": {},
   "source": [
    "## Dictionary"
   ]
  },
  {
   "cell_type": "code",
   "execution_count": 1,
   "id": "e39ba356",
   "metadata": {},
   "outputs": [],
   "source": [
    "# A dictionary is a collection which is ordered*, changeable and do not allow duplicates.\n",
    "# As of Python version 3.7, dictionaries are ordered. In Python 3.6 and earlier, dictionaries are unordered.\n",
    "# When we say that dictionaries are ordered, it means that the items have a defined order, and that order will not change.\n",
    "# Unordered means that the items does not have a defined order, you cannot refer to an item by using an index."
   ]
  },
  {
   "cell_type": "code",
   "execution_count": 2,
   "id": "2a5b49e0",
   "metadata": {},
   "outputs": [
    {
     "data": {
      "text/plain": [
       "dict"
      ]
     },
     "execution_count": 2,
     "metadata": {},
     "output_type": "execute_result"
    }
   ],
   "source": [
    "type(dict())"
   ]
  },
  {
   "cell_type": "code",
   "execution_count": 4,
   "id": "214ae0e0",
   "metadata": {},
   "outputs": [],
   "source": [
    "dt = {'Gates':'Microsoft','Musk':'SpaceX','Jukerburg':'Facebook'}"
   ]
  },
  {
   "cell_type": "code",
   "execution_count": 5,
   "id": "57cac5b8",
   "metadata": {},
   "outputs": [
    {
     "data": {
      "text/plain": [
       "{'Gates': 'Microsoft', 'Musk': 'SpaceX', 'Jukerburg': 'Facebook'}"
      ]
     },
     "execution_count": 5,
     "metadata": {},
     "output_type": "execute_result"
    }
   ],
   "source": [
    "dt"
   ]
  },
  {
   "cell_type": "code",
   "execution_count": 6,
   "id": "5155a5f3",
   "metadata": {},
   "outputs": [
    {
     "data": {
      "text/plain": [
       "dict"
      ]
     },
     "execution_count": 6,
     "metadata": {},
     "output_type": "execute_result"
    }
   ],
   "source": [
    "type(dt)"
   ]
  },
  {
   "cell_type": "code",
   "execution_count": 8,
   "id": "7c288b7e",
   "metadata": {},
   "outputs": [
    {
     "data": {
      "text/plain": [
       "'Microsoft'"
      ]
     },
     "execution_count": 8,
     "metadata": {},
     "output_type": "execute_result"
    }
   ],
   "source": [
    "dt['Gates']"
   ]
  },
  {
   "cell_type": "code",
   "execution_count": 9,
   "id": "70dba9e4",
   "metadata": {},
   "outputs": [
    {
     "name": "stdout",
     "output_type": "stream",
     "text": [
      "Gates\n",
      "Musk\n",
      "Jukerburg\n"
     ]
    }
   ],
   "source": [
    "for x in dt:\n",
    "    print(x)"
   ]
  },
  {
   "cell_type": "code",
   "execution_count": 10,
   "id": "b3b224e7",
   "metadata": {},
   "outputs": [
    {
     "name": "stdout",
     "output_type": "stream",
     "text": [
      "Microsoft\n",
      "SpaceX\n",
      "Facebook\n"
     ]
    }
   ],
   "source": [
    "for x in dt.values():\n",
    "    print(x)"
   ]
  },
  {
   "cell_type": "code",
   "execution_count": 11,
   "id": "b3ef54c7",
   "metadata": {},
   "outputs": [
    {
     "name": "stdout",
     "output_type": "stream",
     "text": [
      "('Gates', 'Microsoft')\n",
      "('Musk', 'SpaceX')\n",
      "('Jukerburg', 'Facebook')\n"
     ]
    }
   ],
   "source": [
    "for x in dt.items():\n",
    "    print(x)"
   ]
  },
  {
   "cell_type": "code",
   "execution_count": 12,
   "id": "be920e8c",
   "metadata": {},
   "outputs": [],
   "source": [
    "## Adding items in dictionary\n",
    "dt['Dorsey']='Twitter'"
   ]
  },
  {
   "cell_type": "code",
   "execution_count": 15,
   "id": "c00091a6",
   "metadata": {},
   "outputs": [
    {
     "data": {
      "text/plain": [
       "{'Gates': 'Microsoft',\n",
       " 'Musk': 'SpaceX',\n",
       " 'Jukerburg': 'Facebook',\n",
       " 'Dorsey': 'Twitter'}"
      ]
     },
     "execution_count": 15,
     "metadata": {},
     "output_type": "execute_result"
    }
   ],
   "source": [
    "dt"
   ]
  },
  {
   "cell_type": "markdown",
   "id": "eb99f2be",
   "metadata": {},
   "source": [
    "## Nested Dictionary"
   ]
  },
  {
   "cell_type": "code",
   "execution_count": 16,
   "id": "ce4c693c",
   "metadata": {},
   "outputs": [],
   "source": [
    "car1_model = {'Mercedes':1960}\n",
    "car2_model = {'Audi':1970}\n",
    "car3_model = {'Ambassador':1980}\n",
    "\n",
    "car_type = {'car1':car1_model,'car2':car2_model,'car3':car3_model}\n",
    "\n"
   ]
  },
  {
   "cell_type": "code",
   "execution_count": 17,
   "id": "70de642c",
   "metadata": {},
   "outputs": [
    {
     "name": "stdout",
     "output_type": "stream",
     "text": [
      "{'car1': {'Mercedes': 1960}, 'car2': {'Audi': 1970}, 'car3': {'Ambassador': 1980}}\n"
     ]
    }
   ],
   "source": [
    "print(car_type)"
   ]
  },
  {
   "cell_type": "code",
   "execution_count": 18,
   "id": "7fae17e0",
   "metadata": {},
   "outputs": [
    {
     "data": {
      "text/plain": [
       "{'Mercedes': 1960}"
      ]
     },
     "execution_count": 18,
     "metadata": {},
     "output_type": "execute_result"
    }
   ],
   "source": [
    "car_type['car1']"
   ]
  },
  {
   "cell_type": "code",
   "execution_count": 19,
   "id": "3034da7f",
   "metadata": {},
   "outputs": [
    {
     "data": {
      "text/plain": [
       "1960"
      ]
     },
     "execution_count": 19,
     "metadata": {},
     "output_type": "execute_result"
    }
   ],
   "source": [
    "car_type['car1']['Mercedes']"
   ]
  },
  {
   "cell_type": "markdown",
   "id": "ab4bc406",
   "metadata": {},
   "source": [
    "## Tuples"
   ]
  },
  {
   "cell_type": "code",
   "execution_count": 20,
   "id": "a7df530e",
   "metadata": {},
   "outputs": [],
   "source": [
    "# A tuple is a collection which is ordered and unchangeable.\n",
    "# Tuple items are ordered, unchangeable, and allow duplicate values.\n",
    "# Tuples are unchangeable, meaning that we cannot change, add or remove items after the tuple has been created.\n",
    "# Since tuples are indexed, they can have items with the same value\n"
   ]
  },
  {
   "cell_type": "code",
   "execution_count": 21,
   "id": "019ff4b0",
   "metadata": {},
   "outputs": [
    {
     "data": {
      "text/plain": [
       "tuple"
      ]
     },
     "execution_count": 21,
     "metadata": {},
     "output_type": "execute_result"
    }
   ],
   "source": [
    "type(tuple())"
   ]
  },
  {
   "cell_type": "code",
   "execution_count": 22,
   "id": "fe243b23",
   "metadata": {},
   "outputs": [],
   "source": [
    "tp = ('I','will','make','a','impact')"
   ]
  },
  {
   "cell_type": "code",
   "execution_count": 23,
   "id": "71f19ebc",
   "metadata": {},
   "outputs": [
    {
     "data": {
      "text/plain": [
       "tuple"
      ]
     },
     "execution_count": 23,
     "metadata": {},
     "output_type": "execute_result"
    }
   ],
   "source": [
    "type(tp)"
   ]
  },
  {
   "cell_type": "code",
   "execution_count": 24,
   "id": "ea2b11fc",
   "metadata": {},
   "outputs": [
    {
     "data": {
      "text/plain": [
       "1"
      ]
     },
     "execution_count": 24,
     "metadata": {},
     "output_type": "execute_result"
    }
   ],
   "source": [
    "tp.count('I')"
   ]
  },
  {
   "cell_type": "code",
   "execution_count": 25,
   "id": "2fbc5d48",
   "metadata": {},
   "outputs": [
    {
     "data": {
      "text/plain": [
       "2"
      ]
     },
     "execution_count": 25,
     "metadata": {},
     "output_type": "execute_result"
    }
   ],
   "source": [
    "tp.index('make')"
   ]
  },
  {
   "cell_type": "code",
   "execution_count": null,
   "id": "261aa677",
   "metadata": {},
   "outputs": [],
   "source": []
  }
 ],
 "metadata": {
  "kernelspec": {
   "display_name": "Python 3 (ipykernel)",
   "language": "python",
   "name": "python3"
  },
  "language_info": {
   "codemirror_mode": {
    "name": "ipython",
    "version": 3
   },
   "file_extension": ".py",
   "mimetype": "text/x-python",
   "name": "python",
   "nbconvert_exporter": "python",
   "pygments_lexer": "ipython3",
   "version": "3.9.7"
  }
 },
 "nbformat": 4,
 "nbformat_minor": 5
}
