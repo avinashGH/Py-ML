{
 "cells": [
  {
   "cell_type": "markdown",
   "id": "751bb6b0",
   "metadata": {},
   "source": [
    "## Basics of Python"
   ]
  },
  {
   "cell_type": "markdown",
   "id": "fde19e8a",
   "metadata": {},
   "source": [
    "### Data Types"
   ]
  },
  {
   "cell_type": "code",
   "execution_count": 5,
   "id": "c4fe023a",
   "metadata": {},
   "outputs": [
    {
     "data": {
      "text/plain": [
       "4"
      ]
     },
     "execution_count": 5,
     "metadata": {},
     "output_type": "execute_result"
    }
   ],
   "source": [
    "2+2 # Addition"
   ]
  },
  {
   "cell_type": "code",
   "execution_count": 6,
   "id": "320320a8",
   "metadata": {},
   "outputs": [
    {
     "data": {
      "text/plain": [
       "20"
      ]
     },
     "execution_count": 6,
     "metadata": {},
     "output_type": "execute_result"
    }
   ],
   "source": [
    "10*2 # Multiplication"
   ]
  },
  {
   "cell_type": "code",
   "execution_count": 7,
   "id": "000d09ba",
   "metadata": {},
   "outputs": [
    {
     "data": {
      "text/plain": [
       "100"
      ]
     },
     "execution_count": 7,
     "metadata": {},
     "output_type": "execute_result"
    }
   ],
   "source": [
    "10**2 #Power"
   ]
  },
  {
   "cell_type": "code",
   "execution_count": 8,
   "id": "c02e1b32",
   "metadata": {},
   "outputs": [
    {
     "data": {
      "text/plain": [
       "'aviaviaviaviaviaviaviaviaviavi'"
      ]
     },
     "execution_count": 8,
     "metadata": {},
     "output_type": "execute_result"
    }
   ],
   "source": [
    "10* \"avi\" #Int with str"
   ]
  },
  {
   "cell_type": "code",
   "execution_count": 9,
   "id": "2cf97ffd",
   "metadata": {},
   "outputs": [],
   "source": [
    "# Inbuilt function type()"
   ]
  },
  {
   "cell_type": "code",
   "execution_count": 10,
   "id": "0d0468bd",
   "metadata": {},
   "outputs": [
    {
     "data": {
      "text/plain": [
       "str"
      ]
     },
     "execution_count": 10,
     "metadata": {},
     "output_type": "execute_result"
    }
   ],
   "source": [
    "type('avi')"
   ]
  },
  {
   "cell_type": "code",
   "execution_count": 11,
   "id": "d221ce7e",
   "metadata": {},
   "outputs": [
    {
     "data": {
      "text/plain": [
       "int"
      ]
     },
     "execution_count": 11,
     "metadata": {},
     "output_type": "execute_result"
    }
   ],
   "source": [
    "type(3)"
   ]
  },
  {
   "cell_type": "code",
   "execution_count": 12,
   "id": "746d130c",
   "metadata": {},
   "outputs": [
    {
     "data": {
      "text/plain": [
       "float"
      ]
     },
     "execution_count": 12,
     "metadata": {},
     "output_type": "execute_result"
    }
   ],
   "source": [
    "type(1.0)"
   ]
  },
  {
   "cell_type": "code",
   "execution_count": 14,
   "id": "8d485236",
   "metadata": {},
   "outputs": [
    {
     "data": {
      "text/plain": [
       "bool"
      ]
     },
     "execution_count": 14,
     "metadata": {},
     "output_type": "execute_result"
    }
   ],
   "source": [
    "type(True)"
   ]
  },
  {
   "cell_type": "markdown",
   "id": "4485ee68",
   "metadata": {},
   "source": [
    "#### String"
   ]
  },
  {
   "cell_type": "code",
   "execution_count": 16,
   "id": "f1dc4d4c",
   "metadata": {},
   "outputs": [
    {
     "data": {
      "text/plain": [
       "'avi'"
      ]
     },
     "execution_count": 16,
     "metadata": {},
     "output_type": "execute_result"
    }
   ],
   "source": [
    "'avi'"
   ]
  },
  {
   "cell_type": "code",
   "execution_count": 17,
   "id": "100131d8",
   "metadata": {},
   "outputs": [
    {
     "data": {
      "text/plain": [
       "'avi'"
      ]
     },
     "execution_count": 17,
     "metadata": {},
     "output_type": "execute_result"
    }
   ],
   "source": [
    "\"avi\""
   ]
  },
  {
   "cell_type": "code",
   "execution_count": 18,
   "id": "90b67450",
   "metadata": {},
   "outputs": [
    {
     "data": {
      "text/plain": [
       "str"
      ]
     },
     "execution_count": 18,
     "metadata": {},
     "output_type": "execute_result"
    }
   ],
   "source": [
    "type('dk')"
   ]
  },
  {
   "cell_type": "code",
   "execution_count": 19,
   "id": "844378be",
   "metadata": {},
   "outputs": [],
   "source": [
    "# Variable assisgnment"
   ]
  },
  {
   "cell_type": "code",
   "execution_count": 20,
   "id": "2a386f0c",
   "metadata": {},
   "outputs": [],
   "source": [
    "a = 4"
   ]
  },
  {
   "cell_type": "code",
   "execution_count": 21,
   "id": "00fcbdf4",
   "metadata": {},
   "outputs": [
    {
     "data": {
      "text/plain": [
       "int"
      ]
     },
     "execution_count": 21,
     "metadata": {},
     "output_type": "execute_result"
    }
   ],
   "source": [
    "type(a)"
   ]
  },
  {
   "cell_type": "code",
   "execution_count": 22,
   "id": "47919a9b",
   "metadata": {},
   "outputs": [],
   "source": [
    "q = 'avi'"
   ]
  },
  {
   "cell_type": "code",
   "execution_count": 23,
   "id": "ca3d0a28",
   "metadata": {},
   "outputs": [
    {
     "data": {
      "text/plain": [
       "str"
      ]
     },
     "execution_count": 23,
     "metadata": {},
     "output_type": "execute_result"
    }
   ],
   "source": [
    "type(q)"
   ]
  },
  {
   "cell_type": "code",
   "execution_count": 25,
   "id": "ec08e142",
   "metadata": {},
   "outputs": [],
   "source": [
    "# Mathematical operation with variable assignment \n",
    "\n",
    "a= 10\n",
    "b= 20"
   ]
  },
  {
   "cell_type": "code",
   "execution_count": 29,
   "id": "19c5a8d8",
   "metadata": {},
   "outputs": [
    {
     "name": "stdout",
     "output_type": "stream",
     "text": [
      "30\n",
      "200\n",
      "0.5\n",
      "10\n",
      "200.5\n"
     ]
    }
   ],
   "source": [
    "# print is an inbuilt function\n",
    "print(a+b)\n",
    "print(a*b)\n",
    "print(a/b)\n",
    "print(a%b)\n",
    "print((a*b)+(a/b))"
   ]
  },
  {
   "cell_type": "code",
   "execution_count": 30,
   "id": "d4db7409",
   "metadata": {},
   "outputs": [
    {
     "name": "stdout",
     "output_type": "stream",
     "text": [
      "hello\n"
     ]
    }
   ],
   "source": [
    "## Various ways of printing\n",
    "\n",
    "print('hello')"
   ]
  },
  {
   "cell_type": "code",
   "execution_count": 31,
   "id": "89bb8e11",
   "metadata": {},
   "outputs": [],
   "source": [
    "first_name = \"Avinash\"\n",
    "last_name = \"Srivastava\""
   ]
  },
  {
   "cell_type": "code",
   "execution_count": 32,
   "id": "bfa0d8d6",
   "metadata": {},
   "outputs": [
    {
     "name": "stdout",
     "output_type": "stream",
     "text": [
      "my first name is Avinash and last name is Srivastava\n"
     ]
    }
   ],
   "source": [
    "print(\"my first name is {} and last name is {}\".format(first_name,last_name))"
   ]
  },
  {
   "cell_type": "code",
   "execution_count": 33,
   "id": "a38bb457",
   "metadata": {},
   "outputs": [],
   "source": [
    "# Another way"
   ]
  },
  {
   "cell_type": "code",
   "execution_count": 35,
   "id": "37b5200c",
   "metadata": {},
   "outputs": [
    {
     "name": "stdout",
     "output_type": "stream",
     "text": [
      "my first name is Avinash and last name is Srivastava\n"
     ]
    }
   ],
   "source": [
    "print(\"my first name is {first} and last name is {last}\".format(first=first_name,last=last_name))"
   ]
  },
  {
   "cell_type": "code",
   "execution_count": 36,
   "id": "e1668a4f",
   "metadata": {},
   "outputs": [],
   "source": [
    "# Inbuilt function len"
   ]
  },
  {
   "cell_type": "code",
   "execution_count": 37,
   "id": "b056e41d",
   "metadata": {},
   "outputs": [
    {
     "data": {
      "text/plain": [
       "5"
      ]
     },
     "execution_count": 37,
     "metadata": {},
     "output_type": "execute_result"
    }
   ],
   "source": [
    "len('dhdjd')"
   ]
  },
  {
   "cell_type": "code",
   "execution_count": null,
   "id": "23b12b87",
   "metadata": {},
   "outputs": [],
   "source": []
  }
 ],
 "metadata": {
  "kernelspec": {
   "display_name": "Python 3 (ipykernel)",
   "language": "python",
   "name": "python3"
  },
  "language_info": {
   "codemirror_mode": {
    "name": "ipython",
    "version": 3
   },
   "file_extension": ".py",
   "mimetype": "text/x-python",
   "name": "python",
   "nbconvert_exporter": "python",
   "pygments_lexer": "ipython3",
   "version": "3.9.7"
  }
 },
 "nbformat": 4,
 "nbformat_minor": 5
}
